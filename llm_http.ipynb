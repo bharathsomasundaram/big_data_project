{
 "cells": [
  {
   "cell_type": "code",
   "execution_count": 1,
   "metadata": {},
   "outputs": [],
   "source": [
    "import requests\n",
    "import time\n",
    "import json\n",
    "import pandas as pd"
   ]
  },
  {
   "cell_type": "code",
   "execution_count": 4,
   "metadata": {},
   "outputs": [],
   "source": [
    "file_name = \"train_spider_200.csv\"\n",
    "file_name_pred = \"pred_spider_50.txt\""
   ]
  },
  {
   "cell_type": "code",
   "execution_count": 5,
   "metadata": {},
   "outputs": [],
   "source": [
    "schema_dict = {'department_management' : \"\"\"CREATE TABLE IF NOT EXISTS \"department\" (\n",
    "\"Department_ID\" int,\n",
    "\"Name\" text,\n",
    "\"Creation\" text,\n",
    "\"Ranking\" int,\n",
    "\"Budget_in_Billions\" real,\n",
    "\"Num_Employees\" real,\n",
    "PRIMARY KEY (\"Department_ID\")\n",
    ");\n",
    "\n",
    "INSERT INTO department VALUES(1,'State','1789','1',9.9600000000000008526,30265.999999999999999);\n",
    "INSERT INTO department VALUES(2,'Treasury','1789','2',11.099999999999999644,115896.99999999999999);\n",
    "INSERT INTO department VALUES(3,'Defense','1947','3',439.30000000000001135,3000000.0);\n",
    "\n",
    "\n",
    "CREATE TABLE IF NOT EXISTS \"head\" (\n",
    "\"head_ID\" int,\n",
    "\"name\" text,\n",
    "\"born_state\" text,\n",
    "\"age\" real,\n",
    "PRIMARY KEY (\"head_ID\")\n",
    ");\n",
    "                                         \n",
    "\n",
    "INSERT INTO head VALUES(1,'Tiger Woods','Alabama',66.999999999999999998);\n",
    "INSERT INTO head VALUES(2,'Sergio García','California',68.000000000000000001);\n",
    "INSERT INTO head VALUES(3,'K. J. Choi','Alabama',69.0);\n",
    "                                         \n",
    "                    \n",
    "CREATE TABLE IF NOT EXISTS \"management\" (\n",
    "\"department_ID\" int,\n",
    "\"head_ID\" int,\n",
    "\"temporary_acting\" text,\n",
    "PRIMARY KEY (\"Department_ID\",\"head_ID\"),\n",
    "FOREIGN KEY (\"Department_ID\") REFERENCES `department`(\"Department_ID\"),\n",
    "FOREIGN KEY (\"head_ID\") REFERENCES `head`(\"head_ID\")\n",
    ");\n",
    "                                         \n",
    "\n",
    "INSERT INTO management VALUES(2,5,'Yes');\n",
    "INSERT INTO management VALUES(15,4,'Yes');\n",
    "INSERT INTO management VALUES(2,6,'Yes');\n",
    "\n",
    "\"\"\",\n",
    "               'farm' :\"\"\"CREATE TABLE \"city\" (\n",
    "\"City_ID\" int,\n",
    "\"Official_Name\" text,\n",
    "\"Status\" text,\n",
    "\"Area_km_2\" real,\n",
    "\"Population\" real,\n",
    "\"Census_Ranking\" text,\n",
    "PRIMARY KEY (\"City_ID\")\n",
    ");\n",
    "\n",
    "CREATE TABLE \"farm\" (\n",
    "\"Farm_ID\" int,\n",
    "\"Year\" int,\n",
    "\"Total_Horses\" real,\n",
    "\"Working_Horses\" real,\n",
    "\"Total_Cattle\" real,\n",
    "\"Oxen\" real,\n",
    "\"Bulls\" real,\n",
    "\"Cows\" real,\n",
    "\"Pigs\" real,\n",
    "\"Sheep_and_Goats\" real,\n",
    "PRIMARY KEY (\"Farm_ID\")\n",
    ");\n",
    "\n",
    "CREATE TABLE \"farm_competition\" (\n",
    "\"Competition_ID\" int,\n",
    "\"Year\" int,\n",
    "\"Theme\" text,\n",
    "\"Host_city_ID\" int,\n",
    "\"Hosts\" text,\n",
    "PRIMARY KEY (\"Competition_ID\"),\n",
    "FOREIGN KEY (`Host_city_ID`) REFERENCES `city`(`City_ID`)\n",
    ");\n",
    "\n",
    "\n",
    "CREATE TABLE \"competition_record\" (\n",
    "\"Competition_ID\" int,\n",
    "\"Farm_ID\" int,\n",
    "\"Rank\" int,\n",
    "PRIMARY KEY (\"Competition_ID\",\"Farm_ID\"),\n",
    "FOREIGN KEY (`Competition_ID`) REFERENCES `farm_competition`(`Competition_ID`),\n",
    "FOREIGN KEY (`Farm_ID`) REFERENCES `farm`(`Farm_ID`)\n",
    ");\n",
    "\n",
    "\n",
    "INSERT INTO  \"city\" VALUES (1,\"Grand Falls/Grand-Sault\",\"Town\",\"18.06\",\"5706\",\"636 of 5008\");\n",
    "INSERT INTO  \"city\" VALUES (2,\"Perth-Andover\",\"Village\",\"8.89\",\"1778\",\"1442 of 5,008\");\n",
    "INSERT INTO  \"city\" VALUES (3,\"Plaster Rock\",\"Village\",\"3.09\",\"1135\",\"1936 of 5,008\");\n",
    "\n",
    "\n",
    "INSERT INTO  \"farm\" VALUES (1,\"1927\",\"5056.5\",\"3900.1\",\"8374.5\",\"805.5\",\"31.6\",\"3852.1\",\"4412.4\",\"7956.3\");\n",
    "INSERT INTO  \"farm\" VALUES (2,\"1928\",\"5486.9\",\"4090.5\",\"8604.8\",\"895.3\",\"32.8\",\"3987.0\",\"6962.9\",\"8112.2\");\n",
    "INSERT INTO  \"farm\" VALUES (3,\"1929\",\"5607.5\",\"4198.8\",\"7611.0\",\"593.7\",\"26.9\",\"3873.0\",\"4161.2\",\"7030.8\");\n",
    "\n",
    "\n",
    "INSERT INTO  \"farm_competition\" VALUES (1,\"2013\",\"Carnival M is back!\",1,\"Miley Cyrus Jared Leto and Karen Mok\");\n",
    "INSERT INTO  \"farm_competition\" VALUES (2,\"2006\",\"Codehunters\",2,\"Leehom Wang and Kelly Rowland\");\n",
    "INSERT INTO  \"farm_competition\" VALUES (3,\"2005\",\"MTV Asia Aid\",3,\"Alicia Keys\");\n",
    "\n",
    "\n",
    "INSERT INTO  \"competition_record\" VALUES (1,8,1);\n",
    "INSERT INTO  \"competition_record\" VALUES (1,2,2);\n",
    "INSERT INTO  \"competition_record\" VALUES (1,3,3);\"\"\",\n",
    "               'student_assessment' : \"\"\"CREATE TABLE Addresses (\n",
    "address_id INTEGER NOT NULL,\n",
    "line_1 VARCHAR(80),\n",
    "line_2 VARCHAR(80),\n",
    "city VARCHAR(50),\n",
    "zip_postcode CHAR(20),\n",
    "state_province_county VARCHAR(50),\n",
    "country VARCHAR(50),\n",
    "PRIMARY KEY (address_id)\n",
    ");\n",
    "\n",
    "INSERT INTO Addresses (`address_id`, `line_1`, `line_2`, `city`, `zip_postcode`, `state_province_county`, `country`) VALUES (5, '0900 Roderick Oval\n",
    "New Albina, WA 19200-7914', 'Suite 096', 'Linnealand', '862', 'Montana', 'USA');\n",
    "INSERT INTO Addresses (`address_id`, `line_1`, `line_2`, `city`, `zip_postcode`, `state_province_county`, `country`) VALUES (9, '966 Dach Ports Apt. 322\n",
    "Lake Harmonyhaven, VA 65235', 'Apt. 163', 'South Minnie', '716', 'Texas', 'USA');\n",
    "INSERT INTO Addresses (`address_id`, `line_1`, `line_2`, `city`, `zip_postcode`, `state_province_county`, `country`) VALUES (29, '28550 Broderick Underpass Suite 667\n",
    "Zakaryhaven, WY 22945-1534', 'Apt. 419', 'North Trystanborough', '112', 'Vermont', 'USA');\n",
    "\n",
    "\n",
    "CREATE TABLE People (\n",
    "person_id INTEGER NOT NULL,\n",
    "first_name VARCHAR(255),\n",
    "middle_name VARCHAR(255),\n",
    "last_name VARCHAR(255),\n",
    "cell_mobile_number VARCHAR(40),\n",
    "email_address VARCHAR(40),\n",
    "login_name VARCHAR(40),\n",
    "password VARCHAR(40),\n",
    "PRIMARY KEY (person_id)\n",
    ");\n",
    "INSERT INTO People (`person_id`, `first_name`, `middle_name`, `last_name`, `cell_mobile_number`, `email_address`, `login_name`, `password`) VALUES (111, 'Shannon', 'Elissa', 'Senger', '01955267735', 'javier.trantow@example.net', 'pgub', '5e4ff49a61b3544da3ad7dc7e2cf28847564c64c');\n",
    "INSERT INTO People (`person_id`, `first_name`, `middle_name`, `last_name`, `cell_mobile_number`, `email_address`, `login_name`, `password`) VALUES (131, 'Dariana', 'Hayley', 'Bednar', '(262)347-9364x516', 'leila14@example.net', 'zops', 'b20b6a9f24aadeda70d54e410c3219f61fb063fb');\n",
    "INSERT INTO People (`person_id`, `first_name`, `middle_name`, `last_name`, `cell_mobile_number`, `email_address`, `login_name`, `password`) VALUES (121, 'Virginie', 'Jasmin', 'Hartmann', '(508)319-2970x043', 'boyer.lonie@example.com', 'bkkv', 'b063331ea8116befaa7b84c59c6a22200f5f8caa');\n",
    "\n",
    "\n",
    "CREATE TABLE Students (\n",
    "student_id INTEGER NOT NULL,\n",
    "student_details VARCHAR(255),\n",
    "PRIMARY KEY (student_id),\n",
    "FOREIGN KEY (student_id) REFERENCES People (person_id)\n",
    ");\n",
    "INSERT INTO Students (`student_id`,`student_details`) VALUES  (111,'Marry');\n",
    "INSERT INTO Students (`student_id`,`student_details`) VALUES  (121,'Martin');\n",
    "INSERT INTO Students (`student_id`,`student_details`) VALUES  (131,'Barry');\n",
    "\n",
    "\n",
    "CREATE TABLE Courses (\n",
    "course_id VARCHAR(100) NOT NULL,\n",
    "course_name VARCHAR(120),\n",
    "course_description VARCHAR(255),\n",
    "other_details VARCHAR(255),\n",
    "PRIMARY KEY (course_id)\n",
    ");\n",
    "INSERT INTO Courses (`course_id`, `course_name`, `course_description`) VALUES ('301', 'statistics', 'statistics');\n",
    "INSERT INTO Courses (`course_id`, `course_name`, `course_description`) VALUES ('302', 'English', 'English');\n",
    "INSERT INTO Courses (`course_id`, `course_name`, `course_description`) VALUES ('303', 'French', 'French');\n",
    "\n",
    "\n",
    "CREATE TABLE People_Addresses (\n",
    "person_address_id INTEGER NOT NULL,\n",
    "person_id INTEGER NOT NULL,\n",
    "address_id INTEGER NOT NULL,\n",
    "date_from DATETIME,\n",
    "date_to DATETIME,\n",
    "PRIMARY KEY (person_address_id),\n",
    "FOREIGN KEY (person_id) REFERENCES People (person_id),\n",
    "FOREIGN KEY (address_id) REFERENCES Addresses (address_id)\n",
    ");\n",
    "INSERT INTO People_Addresses (`person_address_id`, `person_id`, `address_id`, `date_from`, `date_to`) VALUES (122, 111, 9, '2012-09-26 13:21:00', '2018-03-21 09:46:30');\n",
    "INSERT INTO People_Addresses (`person_address_id`, `person_id`, `address_id`, `date_from`, `date_to`) VALUES (257, 121, 5, '2008-07-31 02:17:25', '2018-03-09 02:11:12');\n",
    "INSERT INTO People_Addresses (`person_address_id`, `person_id`, `address_id`, `date_from`, `date_to`) VALUES (269, 131, 88, '2008-05-26 20:43:41', '2018-03-11 20:26:41');\n",
    "\n",
    "\n",
    "CREATE TABLE Student_Course_Registrations (\n",
    "student_id INTEGER NOT NULL,\n",
    "course_id INTEGER NOT NULL,\n",
    "registration_date DATETIME NOT NULL,\n",
    "PRIMARY KEY (student_id, course_id),\n",
    "FOREIGN KEY (student_id) REFERENCES Students (student_id),\n",
    "FOREIGN KEY (course_id) REFERENCES Courses (course_id)\n",
    ");\n",
    "\n",
    "INSERT INTO Student_Course_Registrations (`student_id`,`course_id`,`registration_date`) VALUES (111,'301','2008-11-04 10:35:13');\n",
    "INSERT INTO Student_Course_Registrations (`student_id`,`course_id`,`registration_date`) VALUES (121,'301','2008-10-04 10:35:13');\n",
    "INSERT INTO Student_Course_Registrations (`student_id`,`course_id`,`registration_date`) VALUES (121,'303','2008-11-14 10:35:13');\n",
    "\n",
    "\n",
    "CREATE TABLE Student_Course_Attendance (\n",
    "student_id INTEGER NOT NULL,\n",
    "course_id INTEGER NOT NULL,\n",
    "date_of_attendance DATETIME NOT NULL,\n",
    "PRIMARY KEY (student_id, course_id),\n",
    "FOREIGN KEY (student_id, course_id) REFERENCES Student_Course_Registrations (student_id,course_id)\n",
    ");\n",
    "\n",
    "INSERT INTO Student_Course_Attendance (`student_id`,`course_id`,`date_of_attendance`) VALUES (111,'301','2008-11-04 10:35:13');\n",
    "INSERT INTO Student_Course_Attendance (`student_id`,`course_id`,`date_of_attendance`) VALUES (121,'301','2012-04-09 11:44:34');\n",
    "INSERT INTO Student_Course_Attendance (`student_id`,`course_id`,`date_of_attendance`) VALUES (121,'303','2014-04-09 11:44:34');\n",
    "\n",
    "\n",
    "CREATE TABLE Candidates (\n",
    "candidate_id INTEGER NOT NULL ,\n",
    "candidate_details VARCHAR(255),\n",
    "PRIMARY KEY (candidate_id),\n",
    "FOREIGN KEY (candidate_id) REFERENCES People (person_id)\n",
    ");\n",
    "INSERT INTO Candidates (`candidate_id`,`candidate_details`) VALUES  (111,'Jane');\n",
    "INSERT INTO Candidates (`candidate_id`,`candidate_details`) VALUES  (121,'Robert');\n",
    "INSERT INTO Candidates (`candidate_id`,`candidate_details`) VALUES  (131,'Alex');\n",
    "\n",
    "\n",
    "CREATE TABLE Candidate_Assessments (\n",
    "candidate_id INTEGER NOT NULL,\n",
    "qualification CHAR(15) NOT NULL,\n",
    "assessment_date DATETIME NOT NULL,\n",
    "asessment_outcome_code CHAR(15) NOT NULL,\n",
    "PRIMARY KEY (candidate_id, qualification),\n",
    "FOREIGN KEY (candidate_id) REFERENCES Candidates (candidate_id)\n",
    ");\n",
    "INSERT INTO Candidate_Assessments (`candidate_id`,`qualification`,`assessment_date`,`asessment_outcome_code`) VALUES (111,'A','2010-04-07 11:44:34','Pass');\n",
    "INSERT INTO Candidate_Assessments (`candidate_id`,`qualification`,`assessment_date`,`asessment_outcome_code`) VALUES (121,'B','2010-04-17 11:44:34','Pass');\n",
    "INSERT INTO Candidate_Assessments (`candidate_id`,`qualification`,`assessment_date`,`asessment_outcome_code`) VALUES (131,'D','2010-04-05 11:44:34','Fail');\n",
    "\"\"\",\n",
    "               'bike_1': \"\"\"CREATE TABLE station (\n",
    "    id INTEGER PRIMARY KEY,\n",
    "    name TEXT,\n",
    "    lat NUMERIC,\n",
    "    long NUMERIC,\n",
    "    dock_count INTEGER,\n",
    "    city TEXT,\n",
    "    installation_date TEXT);\n",
    "INSERT INTO \"station\" VALUES(2,'San Jose Diridon Caltrain Station',37.329732,-1.21901782000000011405e+02,27,'San Jose','8/6/2013');\n",
    "INSERT INTO \"station\" VALUES(3,'San Jose Civic Center',37.330698,-121.888979,15,'San Jose','8/5/2013');\n",
    "INSERT INTO \"station\" VALUES(4,'Santa Clara at Almaden',37.333988,-121.894902,11,'San Jose','8/6/2013');\n",
    "\n",
    "\n",
    "CREATE TABLE status (\n",
    "    station_id INTEGER,\n",
    "    bikes_available INTEGER,\n",
    "    docks_available INTEGER,\n",
    "    time TEXT,\n",
    "    FOREIGN KEY (station_id) REFERENCES station(id)\n",
    ");\n",
    "INSERT INTO \"status\" VALUES(3,12,3,'2015-06-02 12:46:02');\n",
    "INSERT INTO \"status\" VALUES(3,12,3,'2015-06-02 12:47:02');\n",
    "INSERT INTO \"status\" VALUES(3,12,3,'2015-06-02 12:48:02');\n",
    "\n",
    "\n",
    "CREATE TABLE trip (\n",
    "    id INTEGER PRIMARY KEY,\n",
    "    duration INTEGER,\n",
    "    start_date TEXT,\n",
    "    start_station_name TEXT, -- this should be removed\n",
    "    start_station_id INTEGER,\n",
    "    end_date TEXT,\n",
    "    end_station_name TEXT, -- this should be removed\n",
    "    end_station_id INTEGER,\n",
    "    bike_id INTEGER,\n",
    "    subscription_type TEXT,\n",
    "    zip_code INTEGER);\n",
    "INSERT INTO \"trip\" VALUES(900504,384,'8/21/2015 17:03','Howard at 2nd',63,'8/21/2015 17:10','San Francisco Caltrain 2 (330 Townsend)',69,454,'Subscriber',94041);\n",
    "INSERT INTO \"trip\" VALUES(900505,588,'8/21/2015 17:03','South Van Ness at Market',66,'8/21/2015 17:13','San Francisco Caltrain 2 (330 Townsend)',69,574,'Subscriber',95119);\n",
    "INSERT INTO \"trip\" VALUES(900506,196,'8/21/2015 17:04','Market at Sansome',77,'8/21/2015 17:07','Harry Bridges Plaza (Ferry Building)',50,636,'Subscriber',94925);\n",
    "\n",
    "\n",
    "CREATE TABLE weather (\n",
    "    date TEXT,\n",
    "    max_temperature_f INTEGER,\n",
    "    mean_temperature_f INTEGER,\n",
    "    min_temperature_f INTEGER,\n",
    "    max_dew_point_f INTEGER,\n",
    "    mean_dew_point_f INTEGER,\n",
    "    min_dew_point_f INTEGER,\n",
    "    max_humidity INTEGER,\n",
    "    mean_humidity INTEGER,\n",
    "    min_humidity INTEGER,\n",
    "    max_sea_level_pressure_inches NUMERIC,\n",
    "    mean_sea_level_pressure_inches NUMERIC,\n",
    "    min_sea_level_pressure_inches NUMERIC,\n",
    "    max_visibility_miles INTEGER,\n",
    "    mean_visibility_miles INTEGER,\n",
    "    min_visibility_miles INTEGER,\n",
    "    max_wind_Speed_mph INTEGER,\n",
    "    mean_wind_speed_mph INTEGER,\n",
    "    max_gust_speed_mph INTEGER,\n",
    "    precipitation_inches INTEGER,\n",
    "    cloud_cover INTEGER,\n",
    "    events TEXT,\n",
    "    wind_dir_degrees INTEGER,\n",
    "    zip_code INTEGER);\n",
    "INSERT INTO \"weather\" VALUES('8/29/2013',74,68,61,61,58,56,93,75,57,30.07,30.02,29.97,10,10,10,23,11,28,0,4,'',286,94107);\n",
    "INSERT INTO \"weather\" VALUES('8/30/2013',78,69,60,61,58,56,90,70,50,30.05,30,29.93,10,10,7,29,13,35,0,2,'',291,94107);\n",
    "INSERT INTO \"weather\" VALUES('8/31/2013',71,64,57,57,56,54,93,75,57,30,29.96,29.92,10,10,10,26,15,31,0,4,'',284,94107);\n",
    "\"\"\"}"
   ]
  },
  {
   "cell_type": "code",
   "execution_count": 6,
   "metadata": {},
   "outputs": [],
   "source": [
    "file_data = pd.read_csv(file_name)"
   ]
  },
  {
   "cell_type": "code",
   "execution_count": 7,
   "metadata": {},
   "outputs": [
    {
     "data": {
      "text/html": [
       "<div>\n",
       "<style scoped>\n",
       "    .dataframe tbody tr th:only-of-type {\n",
       "        vertical-align: middle;\n",
       "    }\n",
       "\n",
       "    .dataframe tbody tr th {\n",
       "        vertical-align: top;\n",
       "    }\n",
       "\n",
       "    .dataframe thead th {\n",
       "        text-align: right;\n",
       "    }\n",
       "</style>\n",
       "<table border=\"1\" class=\"dataframe\">\n",
       "  <thead>\n",
       "    <tr style=\"text-align: right;\">\n",
       "      <th></th>\n",
       "      <th>question_id</th>\n",
       "      <th>db_id</th>\n",
       "      <th>question</th>\n",
       "    </tr>\n",
       "  </thead>\n",
       "  <tbody>\n",
       "    <tr>\n",
       "      <th>12</th>\n",
       "      <td>12</td>\n",
       "      <td>department_management</td>\n",
       "      <td>What are the distinct ages of the heads who ar...</td>\n",
       "    </tr>\n",
       "    <tr>\n",
       "      <th>13</th>\n",
       "      <td>13</td>\n",
       "      <td>department_management</td>\n",
       "      <td>List the states where both the secretary of 'T...</td>\n",
       "    </tr>\n",
       "    <tr>\n",
       "      <th>14</th>\n",
       "      <td>14</td>\n",
       "      <td>department_management</td>\n",
       "      <td>Which department has more than 1 head at a tim...</td>\n",
       "    </tr>\n",
       "    <tr>\n",
       "      <th>15</th>\n",
       "      <td>15</td>\n",
       "      <td>department_management</td>\n",
       "      <td>Which head's name has the substring 'Ha'? List...</td>\n",
       "    </tr>\n",
       "    <tr>\n",
       "      <th>16</th>\n",
       "      <td>16</td>\n",
       "      <td>farm</td>\n",
       "      <td>How many farms are there?</td>\n",
       "    </tr>\n",
       "    <tr>\n",
       "      <th>17</th>\n",
       "      <td>17</td>\n",
       "      <td>farm</td>\n",
       "      <td>Count the number of farms.</td>\n",
       "    </tr>\n",
       "    <tr>\n",
       "      <th>18</th>\n",
       "      <td>18</td>\n",
       "      <td>farm</td>\n",
       "      <td>List the total number of horses on farms in as...</td>\n",
       "    </tr>\n",
       "    <tr>\n",
       "      <th>19</th>\n",
       "      <td>19</td>\n",
       "      <td>farm</td>\n",
       "      <td>What is the total horses record for each farm,...</td>\n",
       "    </tr>\n",
       "    <tr>\n",
       "      <th>20</th>\n",
       "      <td>20</td>\n",
       "      <td>farm</td>\n",
       "      <td>What are the hosts of competitions whose theme...</td>\n",
       "    </tr>\n",
       "    <tr>\n",
       "      <th>21</th>\n",
       "      <td>21</td>\n",
       "      <td>farm</td>\n",
       "      <td>Return the hosts of competitions for which the...</td>\n",
       "    </tr>\n",
       "  </tbody>\n",
       "</table>\n",
       "</div>"
      ],
      "text/plain": [
       "    question_id                  db_id  \\\n",
       "12           12  department_management   \n",
       "13           13  department_management   \n",
       "14           14  department_management   \n",
       "15           15  department_management   \n",
       "16           16                   farm   \n",
       "17           17                   farm   \n",
       "18           18                   farm   \n",
       "19           19                   farm   \n",
       "20           20                   farm   \n",
       "21           21                   farm   \n",
       "\n",
       "                                             question  \n",
       "12  What are the distinct ages of the heads who ar...  \n",
       "13  List the states where both the secretary of 'T...  \n",
       "14  Which department has more than 1 head at a tim...  \n",
       "15  Which head's name has the substring 'Ha'? List...  \n",
       "16                          How many farms are there?  \n",
       "17                         Count the number of farms.  \n",
       "18  List the total number of horses on farms in as...  \n",
       "19  What is the total horses record for each farm,...  \n",
       "20  What are the hosts of competitions whose theme...  \n",
       "21  Return the hosts of competitions for which the...  "
      ]
     },
     "execution_count": 7,
     "metadata": {},
     "output_type": "execute_result"
    }
   ],
   "source": [
    "file_data.iloc[12:22]"
   ]
  },
  {
   "cell_type": "code",
   "execution_count": 8,
   "metadata": {},
   "outputs": [
    {
     "data": {
      "text/plain": [
       "0      How many heads of the departments are older th...\n",
       "1      List the name, born state and age of the heads...\n",
       "2      List the creation year, name and budget of eac...\n",
       "3      What are the maximum and minimum budget of the...\n",
       "4      What is the average number of employees of the...\n",
       "                             ...                        \n",
       "195    Find all the zip codes in which the max dew po...\n",
       "196    What are all the different zip codes that have...\n",
       "197    Find the id for the trips that lasted at least...\n",
       "198    What are the ids of all trips that had a durat...\n",
       "199    What are the dates in which the mean sea level...\n",
       "Name: question, Length: 200, dtype: object"
      ]
     },
     "execution_count": 8,
     "metadata": {},
     "output_type": "execute_result"
    }
   ],
   "source": [
    "file_data[\"question\"]"
   ]
  },
  {
   "cell_type": "code",
   "execution_count": 9,
   "metadata": {},
   "outputs": [],
   "source": [
    "def call_llm(data):\n",
    "    print(\"in call_llm\")\n",
    "    url = 'https://us-central1-llmsql.cloudfunctions.net/helloWorld'\n",
    "    response = requests.post(url, data=data)\n",
    "    print(\"got response\")\n",
    "    return response"
   ]
  },
  {
   "cell_type": "code",
   "execution_count": 10,
   "metadata": {},
   "outputs": [],
   "source": [
    "def text_to_sql(schema_all,questions):\n",
    "    data = {'schema': schema_all,\n",
    "            'user_in_put': questions}\n",
    "\n",
    "    # Send a POST request with the data\n",
    "    print(\"In text_to_sql going to call_llm\")\n",
    "    response = call_llm(data)\n",
    "    print(\"back from call_llm\")\n",
    "    print(\"going to sleep\")\n",
    "    time.sleep(15)\n",
    "    print(\"out of sleep\")\n",
    "    print(questions)\n",
    "    # Check if the request was successful (status code 200)\n",
    "    if response.status_code == 200:\n",
    "        # Print the response content\n",
    "        res = response.text\n",
    "        pred_sql = res.partition(\":\")[2]\n",
    "        print(\"res\" , response.text)\n",
    "        return(pred_sql)\n",
    "    else:\n",
    "        # If the request was not successful, print the status code\n",
    "        print(f\"Request failed with status code: {response.status_code}\")\n",
    "        pred_sql = text_to_sql(schema_all,questions)\n",
    "        return pred_sql"
   ]
  },
  {
   "cell_type": "code",
   "execution_count": 11,
   "metadata": {},
   "outputs": [],
   "source": [
    "file_data = file_data.iloc[:2]"
   ]
  },
  {
   "cell_type": "code",
   "execution_count": 12,
   "metadata": {},
   "outputs": [
    {
     "data": {
      "text/html": [
       "<div>\n",
       "<style scoped>\n",
       "    .dataframe tbody tr th:only-of-type {\n",
       "        vertical-align: middle;\n",
       "    }\n",
       "\n",
       "    .dataframe tbody tr th {\n",
       "        vertical-align: top;\n",
       "    }\n",
       "\n",
       "    .dataframe thead th {\n",
       "        text-align: right;\n",
       "    }\n",
       "</style>\n",
       "<table border=\"1\" class=\"dataframe\">\n",
       "  <thead>\n",
       "    <tr style=\"text-align: right;\">\n",
       "      <th></th>\n",
       "      <th>question_id</th>\n",
       "      <th>db_id</th>\n",
       "      <th>question</th>\n",
       "    </tr>\n",
       "  </thead>\n",
       "  <tbody>\n",
       "    <tr>\n",
       "      <th>0</th>\n",
       "      <td>0</td>\n",
       "      <td>department_management</td>\n",
       "      <td>How many heads of the departments are older th...</td>\n",
       "    </tr>\n",
       "    <tr>\n",
       "      <th>1</th>\n",
       "      <td>1</td>\n",
       "      <td>department_management</td>\n",
       "      <td>List the name, born state and age of the heads...</td>\n",
       "    </tr>\n",
       "  </tbody>\n",
       "</table>\n",
       "</div>"
      ],
      "text/plain": [
       "   question_id                  db_id  \\\n",
       "0            0  department_management   \n",
       "1            1  department_management   \n",
       "\n",
       "                                            question  \n",
       "0  How many heads of the departments are older th...  \n",
       "1  List the name, born state and age of the heads...  "
      ]
     },
     "execution_count": 12,
     "metadata": {},
     "output_type": "execute_result"
    }
   ],
   "source": [
    "file_data"
   ]
  },
  {
   "cell_type": "code",
   "execution_count": 13,
   "metadata": {},
   "outputs": [
    {
     "name": "stdout",
     "output_type": "stream",
     "text": [
      "In text_to_sql going to call_llm\n",
      "in call_llm\n",
      "got response\n",
      "back from call_llm\n",
      "going to sleep\n",
      "out of sleep\n",
      "How many heads of the departments are older than 56 ?\n",
      "res {\"informationDetermination\":\"department: Department_ID, head: head_ID, name, age, management: department_ID, head_ID\",\"classificationAndHint\":\"HINT: [Joins, Aggregate-Query]\",\"sqlGeneration\":\"SQL Query: SELECT COUNT(*) AS OlderHeadsCount FROM head WHERE age > 56;\"}\n",
      "In text_to_sql going to call_llm\n",
      "in call_llm\n",
      "got response\n",
      "back from call_llm\n",
      "going to sleep\n",
      "out of sleep\n",
      "List the name, born state and age of the heads of departments ordered by age.\n",
      "res {\"informationDetermination\":\"\\\"head\\\": name, born_state, age, \\\"management\\\": head_ID, department_ID\",\"classificationAndHint\":\"HINT: [Joins, Simple-Query, Ordered]\",\"sqlGeneration\":\"SQL Query: SELECT h.name, h.born_state, h.age FROM head h JOIN management m ON h.head_ID = m.head_ID ORDER BY h.age;\"}\n"
     ]
    }
   ],
   "source": [
    "\n",
    "# print(\"Please type the input\")\n",
    "# user_input = input()\n",
    "predicted_sql_list = []\n",
    "for index, row in file_data.iterrows():\n",
    "# Define the data to be sent in the request body\n",
    "    sql_predicted = text_to_sql(schema_dict[row[\"db_id\"]],row[\"question\"])\n",
    "    predicted_sql_list.append(sql_predicted)\n",
    "    "
   ]
  },
  {
   "cell_type": "code",
   "execution_count": 67,
   "metadata": {},
   "outputs": [
    {
     "data": {
      "text/plain": [
       "4"
      ]
     },
     "execution_count": 67,
     "metadata": {},
     "output_type": "execute_result"
    }
   ],
   "source": [
    "len(predicted_sql_list)"
   ]
  },
  {
   "cell_type": "code",
   "execution_count": 68,
   "metadata": {},
   "outputs": [
    {
     "data": {
      "text/plain": [
       "['\"department: Department_ID\\\\nhead: head_ID, age\\\\nmanagement: department_ID, head_ID, temporary_acting\",\"classificationAndHint\":\"HINT: [Aggregate-Query]\",\"sqlGeneration\":{\"message\":\"SQL Query: SELECT DISTINCT h.age\\\\nFROM head h\\\\nJOIN management m ON h.head_ID = m.head_ID\\\\nWHERE m.temporary_acting = \\'Yes\\';\",\"prompt\":\"\\\\n    Examples : Consider the example schema and example data \\\\n    -- Creating the Course table\\\\n    CREATE TABLE Course (\\\\n        CourseID INT PRIMARY KEY,\\\\n        CourseName VARCHAR(255),\\\\n        Department VARCHAR(100),\\\\n        Credits INT,\\\\n        Description TEXT\\\\n    );\\\\n    \\\\n    -- Creating the Professor table\\\\n    CREATE TABLE Professor (\\\\n        ProfessorID INT PRIMARY KEY,\\\\n        Name VARCHAR(255),\\\\n        Department VARCHAR(100),\\\\n        Email VARCHAR(255),\\\\n        OfficeLocation VARCHAR(255)\\\\n    );\\\\n    \\\\n    -- Creating the Student table\\\\n    CREATE TABLE Student (\\\\n        StudentID INT PRIMARY KEY,\\\\n        Name VARCHAR(255),\\\\n        Email VARCHAR(255),\\\\n        Major VARCHAR(100),\\\\n        Year INT\\\\n    );\\\\n    \\\\n    -- Creating the Enrollment table\\\\n    CREATE TABLE Enrollment (\\\\n        EnrollmentID INT PRIMARY KEY,\\\\n        StudentID INT,\\\\n        CourseID INT,\\\\n        Semester VARCHAR(50),\\\\n        Grade VARCHAR(5),\\\\n        FOREIGN KEY (StudentID) REFERENCES Student(StudentID),\\\\n        FOREIGN KEY (CourseID) REFERENCES Course(CourseID)\\\\n    );\\\\n    \\\\n    -- Inserting data into Course table\\\\n    INSERT INTO Course (CourseID, CourseName, Department, Credits, Description) VALUES\\\\n    (1, \\'Introduction to Computer Science\\', \\'Computer Science\\', 4, \\'An introductory course on computer science fundamentals.\\'),\\\\n    (2, \\'Organic Chemistry\\', \\'Chemistry\\', 4, \\'A detailed study of the structure, properties, and reactions of organic compounds.\\'),\\\\n    (3, \\'World History\\', \\'History\\', 3, \\'A survey of world history from the prehistoric to modern times.\\');\\\\n    \\\\n    -- Inserting data into Professor table\\\\n    INSERT INTO Professor (ProfessorID, Name, Department, Email, OfficeLocation) VALUES\\\\n    (1, \\'John Doe\\', \\'Computer Science\\', \\'johndoe@university.edu\\', \\'SciHall Room 401\\'),\\\\n    (2, \\'Jane Smith\\', \\'Chemistry\\', \\'janesmith@university.edu\\', \\'ChemBldg Room 302\\'),\\\\n    (3, \\'Edward Norton\\', \\'History\\', \\'edwardnorton@university.edu\\', \\'HistHall Room 101\\');\\\\n    \\\\n    -- Inserting data into Student table\\\\n    INSERT INTO Student (StudentID, Name, Email, Major, Year) VALUES\\\\n    (1, \\'Alice Johnson\\', \\'alicejohnson@university.edu\\', \\'Computer Science\\', 2),\\\\n    (2, \\'Bob Lee\\', \\'boblee@university.edu\\', \\'Chemistry\\', 3),\\\\n    (3, \\'Clara Oswald\\', \\'claraoswald@university.edu\\', \\'History\\', 1);\\\\n    \\\\n    -- Inserting data into Enrollment table\\\\n    INSERT INTO Enrollment (EnrollmentID, StudentID, CourseID, Semester, Grade) VALUES\\\\n    (1, 1, 1, \\'Fall 2024\\', \\'A\\'),\\\\n    (2, 2, 2, \\'Fall 2024\\', \\'B\\'),\\\\n    (3, 3, 3, \\'Fall 2024\\', \\'A\\');\\\\n    . And these are example queries .\\\\n    This is my schema for which I require an SQL Query: CREATE TABLE IF NOT EXISTS \\\\\"department\\\\\" (\\\\n\\\\\"Department_ID\\\\\" int,\\\\n\\\\\"Name\\\\\" text,\\\\n\\\\\"Creation\\\\\" text,\\\\n\\\\\"Ranking\\\\\" int,\\\\n\\\\\"Budget_in_Billions\\\\\" real,\\\\n\\\\\"Num_Employees\\\\\" real,\\\\nPRIMARY KEY (\\\\\"Department_ID\\\\\")\\\\n);\\\\n\\\\nINSERT INTO department VALUES(1,\\'State\\',\\'1789\\',\\'1\\',9.9600000000000008526,30265.999999999999999);\\\\nINSERT INTO department VALUES(2,\\'Treasury\\',\\'1789\\',\\'2\\',11.099999999999999644,115896.99999999999999);\\\\nINSERT INTO department VALUES(3,\\'Defense\\',\\'1947\\',\\'3\\',439.30000000000001135,3000000.0);\\\\n\\\\n\\\\nCREATE TABLE IF NOT EXISTS \\\\\"head\\\\\" (\\\\n\\\\\"head_ID\\\\\" int,\\\\n\\\\\"name\\\\\" text,\\\\n\\\\\"born_state\\\\\" text,\\\\n\\\\\"age\\\\\" real,\\\\nPRIMARY KEY (\\\\\"head_ID\\\\\")\\\\n);\\\\n                                         \\\\n\\\\nINSERT INTO head VALUES(1,\\'Tiger Woods\\',\\'Alabama\\',66.999999999999999998);\\\\nINSERT INTO head VALUES(2,\\'Sergio García\\',\\'California\\',68.000000000000000001);\\\\nINSERT INTO head VALUES(3,\\'K. J. Choi\\',\\'Alabama\\',69.0);\\\\n                                         \\\\n                    \\\\nCREATE TABLE IF NOT EXISTS \\\\\"management\\\\\" (\\\\n\\\\\"department_ID\\\\\" int,\\\\n\\\\\"head_ID\\\\\" int,\\\\n\\\\\"temporary_acting\\\\\" text,\\\\nPRIMARY KEY (\\\\\"Department_ID\\\\\",\\\\\"head_ID\\\\\"),\\\\nFOREIGN KEY (\\\\\"Department_ID\\\\\") REFERENCES `department`(\\\\\"Department_ID\\\\\"),\\\\nFOREIGN KEY (\\\\\"head_ID\\\\\") REFERENCES `head`(\\\\\"head_ID\\\\\")\\\\n);\\\\n                                         \\\\n\\\\nINSERT INTO management VALUES(2,5,\\'Yes\\');\\\\nINSERT INTO management VALUES(15,4,\\'Yes\\');\\\\nINSERT INTO management VALUES(2,6,\\'Yes\\');\\\\n\\\\n\\\\n    Columns that maybe relevant in my schema: department: Department_ID\\\\nhead: head_ID, age\\\\nmanagement: department_ID, head_ID, temporary_acting,\\\\n    Hint: You may require HINT: [Aggregate-Query],\\\\n    Please Generate an SQL query for What are the distinct ages of the heads who are acting?.\\\\n    Output format should be \\\\\"SQL Query: {Sql Query}\\\\\".\\\\n    \"}}',\n",
       " '\"department: Name\\\\nhead: name, born_state\\\\n\\\\nThe required columns needed to generate an SQL query for the scenario would be:\\\\n- From the department table: Name\\\\n- From the head table: name, born_state\",\"classificationAndHint\":\"HINT: 3) Nested-Query\",\"sqlGeneration\":{\"message\":\"SQL Query: \\\\nSELECT DISTINCT d1.Name \\\\nFROM department d1 \\\\nJOIN management m1 ON d1.Department_ID = m1.department_ID \\\\nJOIN head h1 ON m1.head_ID = h1.head_ID \\\\nAND d1.Name = \\'Treasury\\' \\\\nJOIN management m2 ON d1.Department_ID = m2.department_ID \\\\nJOIN head h2 ON m2.head_ID = h2.head_ID \\\\nAND d2.Name = \\'Homeland Security\\' \\\\nWHERE h1.born_state = h2.born_state;\",\"prompt\":\"\\\\n    Examples : Consider the example schema and example data \\\\n    -- Creating the Course table\\\\n    CREATE TABLE Course (\\\\n        CourseID INT PRIMARY KEY,\\\\n        CourseName VARCHAR(255),\\\\n        Department VARCHAR(100),\\\\n        Credits INT,\\\\n        Description TEXT\\\\n    );\\\\n    \\\\n    -- Creating the Professor table\\\\n    CREATE TABLE Professor (\\\\n        ProfessorID INT PRIMARY KEY,\\\\n        Name VARCHAR(255),\\\\n        Department VARCHAR(100),\\\\n        Email VARCHAR(255),\\\\n        OfficeLocation VARCHAR(255)\\\\n    );\\\\n    \\\\n    -- Creating the Student table\\\\n    CREATE TABLE Student (\\\\n        StudentID INT PRIMARY KEY,\\\\n        Name VARCHAR(255),\\\\n        Email VARCHAR(255),\\\\n        Major VARCHAR(100),\\\\n        Year INT\\\\n    );\\\\n    \\\\n    -- Creating the Enrollment table\\\\n    CREATE TABLE Enrollment (\\\\n        EnrollmentID INT PRIMARY KEY,\\\\n        StudentID INT,\\\\n        CourseID INT,\\\\n        Semester VARCHAR(50),\\\\n        Grade VARCHAR(5),\\\\n        FOREIGN KEY (StudentID) REFERENCES Student(StudentID),\\\\n        FOREIGN KEY (CourseID) REFERENCES Course(CourseID)\\\\n    );\\\\n    \\\\n    -- Inserting data into Course table\\\\n    INSERT INTO Course (CourseID, CourseName, Department, Credits, Description) VALUES\\\\n    (1, \\'Introduction to Computer Science\\', \\'Computer Science\\', 4, \\'An introductory course on computer science fundamentals.\\'),\\\\n    (2, \\'Organic Chemistry\\', \\'Chemistry\\', 4, \\'A detailed study of the structure, properties, and reactions of organic compounds.\\'),\\\\n    (3, \\'World History\\', \\'History\\', 3, \\'A survey of world history from the prehistoric to modern times.\\');\\\\n    \\\\n    -- Inserting data into Professor table\\\\n    INSERT INTO Professor (ProfessorID, Name, Department, Email, OfficeLocation) VALUES\\\\n    (1, \\'John Doe\\', \\'Computer Science\\', \\'johndoe@university.edu\\', \\'SciHall Room 401\\'),\\\\n    (2, \\'Jane Smith\\', \\'Chemistry\\', \\'janesmith@university.edu\\', \\'ChemBldg Room 302\\'),\\\\n    (3, \\'Edward Norton\\', \\'History\\', \\'edwardnorton@university.edu\\', \\'HistHall Room 101\\');\\\\n    \\\\n    -- Inserting data into Student table\\\\n    INSERT INTO Student (StudentID, Name, Email, Major, Year) VALUES\\\\n    (1, \\'Alice Johnson\\', \\'alicejohnson@university.edu\\', \\'Computer Science\\', 2),\\\\n    (2, \\'Bob Lee\\', \\'boblee@university.edu\\', \\'Chemistry\\', 3),\\\\n    (3, \\'Clara Oswald\\', \\'claraoswald@university.edu\\', \\'History\\', 1);\\\\n    \\\\n    -- Inserting data into Enrollment table\\\\n    INSERT INTO Enrollment (EnrollmentID, StudentID, CourseID, Semester, Grade) VALUES\\\\n    (1, 1, 1, \\'Fall 2024\\', \\'A\\'),\\\\n    (2, 2, 2, \\'Fall 2024\\', \\'B\\'),\\\\n    (3, 3, 3, \\'Fall 2024\\', \\'A\\');\\\\n    . And these are example queries .\\\\n    This is my schema for which I require an SQL Query: CREATE TABLE IF NOT EXISTS \\\\\"department\\\\\" (\\\\n\\\\\"Department_ID\\\\\" int,\\\\n\\\\\"Name\\\\\" text,\\\\n\\\\\"Creation\\\\\" text,\\\\n\\\\\"Ranking\\\\\" int,\\\\n\\\\\"Budget_in_Billions\\\\\" real,\\\\n\\\\\"Num_Employees\\\\\" real,\\\\nPRIMARY KEY (\\\\\"Department_ID\\\\\")\\\\n);\\\\n\\\\nINSERT INTO department VALUES(1,\\'State\\',\\'1789\\',\\'1\\',9.9600000000000008526,30265.999999999999999);\\\\nINSERT INTO department VALUES(2,\\'Treasury\\',\\'1789\\',\\'2\\',11.099999999999999644,115896.99999999999999);\\\\nINSERT INTO department VALUES(3,\\'Defense\\',\\'1947\\',\\'3\\',439.30000000000001135,3000000.0);\\\\n\\\\n\\\\nCREATE TABLE IF NOT EXISTS \\\\\"head\\\\\" (\\\\n\\\\\"head_ID\\\\\" int,\\\\n\\\\\"name\\\\\" text,\\\\n\\\\\"born_state\\\\\" text,\\\\n\\\\\"age\\\\\" real,\\\\nPRIMARY KEY (\\\\\"head_ID\\\\\")\\\\n);\\\\n                                         \\\\n\\\\nINSERT INTO head VALUES(1,\\'Tiger Woods\\',\\'Alabama\\',66.999999999999999998);\\\\nINSERT INTO head VALUES(2,\\'Sergio García\\',\\'California\\',68.000000000000000001);\\\\nINSERT INTO head VALUES(3,\\'K. J. Choi\\',\\'Alabama\\',69.0);\\\\n                                         \\\\n                    \\\\nCREATE TABLE IF NOT EXISTS \\\\\"management\\\\\" (\\\\n\\\\\"department_ID\\\\\" int,\\\\n\\\\\"head_ID\\\\\" int,\\\\n\\\\\"temporary_acting\\\\\" text,\\\\nPRIMARY KEY (\\\\\"Department_ID\\\\\",\\\\\"head_ID\\\\\"),\\\\nFOREIGN KEY (\\\\\"Department_ID\\\\\") REFERENCES `department`(\\\\\"Department_ID\\\\\"),\\\\nFOREIGN KEY (\\\\\"head_ID\\\\\") REFERENCES `head`(\\\\\"head_ID\\\\\")\\\\n);\\\\n                                         \\\\n\\\\nINSERT INTO management VALUES(2,5,\\'Yes\\');\\\\nINSERT INTO management VALUES(15,4,\\'Yes\\');\\\\nINSERT INTO management VALUES(2,6,\\'Yes\\');\\\\n\\\\n\\\\n    Columns that maybe relevant in my schema: department: Name\\\\nhead: name, born_state\\\\n\\\\nThe required columns needed to generate an SQL query for the scenario would be:\\\\n- From the department table: Name\\\\n- From the head table: name, born_state,\\\\n    Hint: You may require HINT: 3) Nested-Query,\\\\n    Please Generate an SQL query for List the states where both the secretary of \\'Treasury\\' department and the secretary of \\'Homeland Security\\' were born..\\\\n    Output format should be \\\\\"SQL Query: {Sql Query}\\\\\".\\\\n    \"}}',\n",
       " '\"department: Department_ID, Name\\\\nhead: head_ID, name\\\\nmanagement: department_ID, head_ID\",\"classificationAndHint\":\"HINT: [3) Nested-Query]\",\"sqlGeneration\":{\"message\":\"SQL Query: \\\\nSELECT d.Department_ID, d.Name, COUNT(m.head_ID) AS Num_Heads\\\\nFROM department d\\\\nJOIN management m ON d.Department_ID = m.department_ID\\\\nGROUP BY d.Department_ID, d.Name\\\\nHAVING COUNT(m.head_ID) > 1;\",\"prompt\":\"\\\\n    Examples : Consider the example schema and example data \\\\n    -- Creating the Course table\\\\n    CREATE TABLE Course (\\\\n        CourseID INT PRIMARY KEY,\\\\n        CourseName VARCHAR(255),\\\\n        Department VARCHAR(100),\\\\n        Credits INT,\\\\n        Description TEXT\\\\n    );\\\\n    \\\\n    -- Creating the Professor table\\\\n    CREATE TABLE Professor (\\\\n        ProfessorID INT PRIMARY KEY,\\\\n        Name VARCHAR(255),\\\\n        Department VARCHAR(100),\\\\n        Email VARCHAR(255),\\\\n        OfficeLocation VARCHAR(255)\\\\n    );\\\\n    \\\\n    -- Creating the Student table\\\\n    CREATE TABLE Student (\\\\n        StudentID INT PRIMARY KEY,\\\\n        Name VARCHAR(255),\\\\n        Email VARCHAR(255),\\\\n        Major VARCHAR(100),\\\\n        Year INT\\\\n    );\\\\n    \\\\n    -- Creating the Enrollment table\\\\n    CREATE TABLE Enrollment (\\\\n        EnrollmentID INT PRIMARY KEY,\\\\n        StudentID INT,\\\\n        CourseID INT,\\\\n        Semester VARCHAR(50),\\\\n        Grade VARCHAR(5),\\\\n        FOREIGN KEY (StudentID) REFERENCES Student(StudentID),\\\\n        FOREIGN KEY (CourseID) REFERENCES Course(CourseID)\\\\n    );\\\\n    \\\\n    -- Inserting data into Course table\\\\n    INSERT INTO Course (CourseID, CourseName, Department, Credits, Description) VALUES\\\\n    (1, \\'Introduction to Computer Science\\', \\'Computer Science\\', 4, \\'An introductory course on computer science fundamentals.\\'),\\\\n    (2, \\'Organic Chemistry\\', \\'Chemistry\\', 4, \\'A detailed study of the structure, properties, and reactions of organic compounds.\\'),\\\\n    (3, \\'World History\\', \\'History\\', 3, \\'A survey of world history from the prehistoric to modern times.\\');\\\\n    \\\\n    -- Inserting data into Professor table\\\\n    INSERT INTO Professor (ProfessorID, Name, Department, Email, OfficeLocation) VALUES\\\\n    (1, \\'John Doe\\', \\'Computer Science\\', \\'johndoe@university.edu\\', \\'SciHall Room 401\\'),\\\\n    (2, \\'Jane Smith\\', \\'Chemistry\\', \\'janesmith@university.edu\\', \\'ChemBldg Room 302\\'),\\\\n    (3, \\'Edward Norton\\', \\'History\\', \\'edwardnorton@university.edu\\', \\'HistHall Room 101\\');\\\\n    \\\\n    -- Inserting data into Student table\\\\n    INSERT INTO Student (StudentID, Name, Email, Major, Year) VALUES\\\\n    (1, \\'Alice Johnson\\', \\'alicejohnson@university.edu\\', \\'Computer Science\\', 2),\\\\n    (2, \\'Bob Lee\\', \\'boblee@university.edu\\', \\'Chemistry\\', 3),\\\\n    (3, \\'Clara Oswald\\', \\'claraoswald@university.edu\\', \\'History\\', 1);\\\\n    \\\\n    -- Inserting data into Enrollment table\\\\n    INSERT INTO Enrollment (EnrollmentID, StudentID, CourseID, Semester, Grade) VALUES\\\\n    (1, 1, 1, \\'Fall 2024\\', \\'A\\'),\\\\n    (2, 2, 2, \\'Fall 2024\\', \\'B\\'),\\\\n    (3, 3, 3, \\'Fall 2024\\', \\'A\\');\\\\n    . And these are example queries .\\\\n    This is my schema for which I require an SQL Query: CREATE TABLE IF NOT EXISTS \\\\\"department\\\\\" (\\\\n\\\\\"Department_ID\\\\\" int,\\\\n\\\\\"Name\\\\\" text,\\\\n\\\\\"Creation\\\\\" text,\\\\n\\\\\"Ranking\\\\\" int,\\\\n\\\\\"Budget_in_Billions\\\\\" real,\\\\n\\\\\"Num_Employees\\\\\" real,\\\\nPRIMARY KEY (\\\\\"Department_ID\\\\\")\\\\n);\\\\n\\\\nINSERT INTO department VALUES(1,\\'State\\',\\'1789\\',\\'1\\',9.9600000000000008526,30265.999999999999999);\\\\nINSERT INTO department VALUES(2,\\'Treasury\\',\\'1789\\',\\'2\\',11.099999999999999644,115896.99999999999999);\\\\nINSERT INTO department VALUES(3,\\'Defense\\',\\'1947\\',\\'3\\',439.30000000000001135,3000000.0);\\\\n\\\\n\\\\nCREATE TABLE IF NOT EXISTS \\\\\"head\\\\\" (\\\\n\\\\\"head_ID\\\\\" int,\\\\n\\\\\"name\\\\\" text,\\\\n\\\\\"born_state\\\\\" text,\\\\n\\\\\"age\\\\\" real,\\\\nPRIMARY KEY (\\\\\"head_ID\\\\\")\\\\n);\\\\n                                         \\\\n\\\\nINSERT INTO head VALUES(1,\\'Tiger Woods\\',\\'Alabama\\',66.999999999999999998);\\\\nINSERT INTO head VALUES(2,\\'Sergio García\\',\\'California\\',68.000000000000000001);\\\\nINSERT INTO head VALUES(3,\\'K. J. Choi\\',\\'Alabama\\',69.0);\\\\n                                         \\\\n                    \\\\nCREATE TABLE IF NOT EXISTS \\\\\"management\\\\\" (\\\\n\\\\\"department_ID\\\\\" int,\\\\n\\\\\"head_ID\\\\\" int,\\\\n\\\\\"temporary_acting\\\\\" text,\\\\nPRIMARY KEY (\\\\\"Department_ID\\\\\",\\\\\"head_ID\\\\\"),\\\\nFOREIGN KEY (\\\\\"Department_ID\\\\\") REFERENCES `department`(\\\\\"Department_ID\\\\\"),\\\\nFOREIGN KEY (\\\\\"head_ID\\\\\") REFERENCES `head`(\\\\\"head_ID\\\\\")\\\\n);\\\\n                                         \\\\n\\\\nINSERT INTO management VALUES(2,5,\\'Yes\\');\\\\nINSERT INTO management VALUES(15,4,\\'Yes\\');\\\\nINSERT INTO management VALUES(2,6,\\'Yes\\');\\\\n\\\\n\\\\n    Columns that maybe relevant in my schema: department: Department_ID, Name\\\\nhead: head_ID, name\\\\nmanagement: department_ID, head_ID,\\\\n    Hint: You may require HINT: [3) Nested-Query],\\\\n    Please Generate an SQL query for Which department has more than 1 head at a time? List the id, name and the number of heads..\\\\n    Output format should be \\\\\"SQL Query: {Sql Query}\\\\\".\\\\n    \"}}',\n",
       " '\"department: Department_ID\\\\nhead: head_ID, name\",\"classificationAndHint\":\"HINT : [Simple-Query]\",\"sqlGeneration\":{\"message\":\"SQL Query: SELECT head_ID, name FROM head WHERE name LIKE \\'%Ha%\\';\",\"prompt\":\"\\\\n    Examples : Consider the example schema and example data \\\\n    -- Creating the Course table\\\\n    CREATE TABLE Course (\\\\n        CourseID INT PRIMARY KEY,\\\\n        CourseName VARCHAR(255),\\\\n        Department VARCHAR(100),\\\\n        Credits INT,\\\\n        Description TEXT\\\\n    );\\\\n    \\\\n    -- Creating the Professor table\\\\n    CREATE TABLE Professor (\\\\n        ProfessorID INT PRIMARY KEY,\\\\n        Name VARCHAR(255),\\\\n        Department VARCHAR(100),\\\\n        Email VARCHAR(255),\\\\n        OfficeLocation VARCHAR(255)\\\\n    );\\\\n    \\\\n    -- Creating the Student table\\\\n    CREATE TABLE Student (\\\\n        StudentID INT PRIMARY KEY,\\\\n        Name VARCHAR(255),\\\\n        Email VARCHAR(255),\\\\n        Major VARCHAR(100),\\\\n        Year INT\\\\n    );\\\\n    \\\\n    -- Creating the Enrollment table\\\\n    CREATE TABLE Enrollment (\\\\n        EnrollmentID INT PRIMARY KEY,\\\\n        StudentID INT,\\\\n        CourseID INT,\\\\n        Semester VARCHAR(50),\\\\n        Grade VARCHAR(5),\\\\n        FOREIGN KEY (StudentID) REFERENCES Student(StudentID),\\\\n        FOREIGN KEY (CourseID) REFERENCES Course(CourseID)\\\\n    );\\\\n    \\\\n    -- Inserting data into Course table\\\\n    INSERT INTO Course (CourseID, CourseName, Department, Credits, Description) VALUES\\\\n    (1, \\'Introduction to Computer Science\\', \\'Computer Science\\', 4, \\'An introductory course on computer science fundamentals.\\'),\\\\n    (2, \\'Organic Chemistry\\', \\'Chemistry\\', 4, \\'A detailed study of the structure, properties, and reactions of organic compounds.\\'),\\\\n    (3, \\'World History\\', \\'History\\', 3, \\'A survey of world history from the prehistoric to modern times.\\');\\\\n    \\\\n    -- Inserting data into Professor table\\\\n    INSERT INTO Professor (ProfessorID, Name, Department, Email, OfficeLocation) VALUES\\\\n    (1, \\'John Doe\\', \\'Computer Science\\', \\'johndoe@university.edu\\', \\'SciHall Room 401\\'),\\\\n    (2, \\'Jane Smith\\', \\'Chemistry\\', \\'janesmith@university.edu\\', \\'ChemBldg Room 302\\'),\\\\n    (3, \\'Edward Norton\\', \\'History\\', \\'edwardnorton@university.edu\\', \\'HistHall Room 101\\');\\\\n    \\\\n    -- Inserting data into Student table\\\\n    INSERT INTO Student (StudentID, Name, Email, Major, Year) VALUES\\\\n    (1, \\'Alice Johnson\\', \\'alicejohnson@university.edu\\', \\'Computer Science\\', 2),\\\\n    (2, \\'Bob Lee\\', \\'boblee@university.edu\\', \\'Chemistry\\', 3),\\\\n    (3, \\'Clara Oswald\\', \\'claraoswald@university.edu\\', \\'History\\', 1);\\\\n    \\\\n    -- Inserting data into Enrollment table\\\\n    INSERT INTO Enrollment (EnrollmentID, StudentID, CourseID, Semester, Grade) VALUES\\\\n    (1, 1, 1, \\'Fall 2024\\', \\'A\\'),\\\\n    (2, 2, 2, \\'Fall 2024\\', \\'B\\'),\\\\n    (3, 3, 3, \\'Fall 2024\\', \\'A\\');\\\\n    . And these are example queries .\\\\n    This is my schema for which I require an SQL Query: CREATE TABLE IF NOT EXISTS \\\\\"department\\\\\" (\\\\n\\\\\"Department_ID\\\\\" int,\\\\n\\\\\"Name\\\\\" text,\\\\n\\\\\"Creation\\\\\" text,\\\\n\\\\\"Ranking\\\\\" int,\\\\n\\\\\"Budget_in_Billions\\\\\" real,\\\\n\\\\\"Num_Employees\\\\\" real,\\\\nPRIMARY KEY (\\\\\"Department_ID\\\\\")\\\\n);\\\\n\\\\nINSERT INTO department VALUES(1,\\'State\\',\\'1789\\',\\'1\\',9.9600000000000008526,30265.999999999999999);\\\\nINSERT INTO department VALUES(2,\\'Treasury\\',\\'1789\\',\\'2\\',11.099999999999999644,115896.99999999999999);\\\\nINSERT INTO department VALUES(3,\\'Defense\\',\\'1947\\',\\'3\\',439.30000000000001135,3000000.0);\\\\n\\\\n\\\\nCREATE TABLE IF NOT EXISTS \\\\\"head\\\\\" (\\\\n\\\\\"head_ID\\\\\" int,\\\\n\\\\\"name\\\\\" text,\\\\n\\\\\"born_state\\\\\" text,\\\\n\\\\\"age\\\\\" real,\\\\nPRIMARY KEY (\\\\\"head_ID\\\\\")\\\\n);\\\\n                                         \\\\n\\\\nINSERT INTO head VALUES(1,\\'Tiger Woods\\',\\'Alabama\\',66.999999999999999998);\\\\nINSERT INTO head VALUES(2,\\'Sergio García\\',\\'California\\',68.000000000000000001);\\\\nINSERT INTO head VALUES(3,\\'K. J. Choi\\',\\'Alabama\\',69.0);\\\\n                                         \\\\n                    \\\\nCREATE TABLE IF NOT EXISTS \\\\\"management\\\\\" (\\\\n\\\\\"department_ID\\\\\" int,\\\\n\\\\\"head_ID\\\\\" int,\\\\n\\\\\"temporary_acting\\\\\" text,\\\\nPRIMARY KEY (\\\\\"Department_ID\\\\\",\\\\\"head_ID\\\\\"),\\\\nFOREIGN KEY (\\\\\"Department_ID\\\\\") REFERENCES `department`(\\\\\"Department_ID\\\\\"),\\\\nFOREIGN KEY (\\\\\"head_ID\\\\\") REFERENCES `head`(\\\\\"head_ID\\\\\")\\\\n);\\\\n                                         \\\\n\\\\nINSERT INTO management VALUES(2,5,\\'Yes\\');\\\\nINSERT INTO management VALUES(15,4,\\'Yes\\');\\\\nINSERT INTO management VALUES(2,6,\\'Yes\\');\\\\n\\\\n\\\\n    Columns that maybe relevant in my schema: department: Department_ID\\\\nhead: head_ID, name,\\\\n    Hint: You may require HINT : [Simple-Query],\\\\n    Please Generate an SQL query for Which head\\'s name has the substring \\'Ha\\'? List the id and name..\\\\n    Output format should be \\\\\"SQL Query: {Sql Query}\\\\\".\\\\n    \"}}']"
      ]
     },
     "execution_count": 68,
     "metadata": {},
     "output_type": "execute_result"
    }
   ],
   "source": [
    "predicted_sql_list"
   ]
  },
  {
   "cell_type": "code",
   "execution_count": 69,
   "metadata": {},
   "outputs": [],
   "source": [
    "def write_list_to_file(lst, filename):\n",
    "    with open(filename, 'w') as file:\n",
    "        for item in lst:\n",
    "            if item is not None:\n",
    "                test_str = item.replace(\"\\\\n\", \" \")  # Replace newline characters with spaces\n",
    "                sub1 = \"SQL Query:\"\n",
    "                sub2 = \"prompt\"\n",
    "                # getting index of substrings\n",
    "                idx1 = test_str.index(sub1)\n",
    "                idx2 = test_str.index(sub2)\n",
    "                res = ''\n",
    "                # getting elements in between\n",
    "                for idx in range(idx1 + len(sub1) + 1, idx2):\n",
    "                    res = res + test_str[idx]\n",
    "                res = res.strip()\n",
    "                file.write(str(res[:-3]) + '\\n')\n",
    "            else:\n",
    "                file.write(\"None\\n\")  # Write \"None\" to file if item is None"
   ]
  },
  {
   "cell_type": "code",
   "execution_count": 70,
   "metadata": {},
   "outputs": [],
   "source": [
    "write_list_to_file(predicted_sql_list, \"12_to_22_1st4.txt\")"
   ]
  },
  {
   "cell_type": "code",
   "execution_count": 31,
   "metadata": {},
   "outputs": [],
   "source": [
    "test_str = predicted_sql_list[1].replace(\"\\\\n\", \" \")\n",
    "sub1 = \"SQL Query:\"\n",
    "sub2 = \"prompt\"\n",
    "# getting index of substrings\n",
    "idx1 = test_str.index(sub1)\n",
    "idx2 = test_str.index(sub2)\n",
    " \n",
    "res = ''\n",
    "# getting elements in between\n",
    "for idx in range(idx1 + len(sub1) + 1, idx2):\n",
    "    res = res + test_str[idx]"
   ]
  },
  {
   "cell_type": "code",
   "execution_count": 32,
   "metadata": {},
   "outputs": [
    {
     "data": {
      "text/plain": [
       "'SELECT h.name, h.born_state, h.age FROM head h JOIN management m ON h.head_ID = m.head_ID ORDER BY h.age;\",\"'"
      ]
     },
     "execution_count": 32,
     "metadata": {},
     "output_type": "execute_result"
    }
   ],
   "source": [
    "res.strip()"
   ]
  },
  {
   "cell_type": "code",
   "execution_count": 20,
   "metadata": {},
   "outputs": [
    {
     "data": {
      "text/plain": [
       "'SELECT COUNT(*)  FROM head  WHERE age > 56;'"
      ]
     },
     "execution_count": 20,
     "metadata": {},
     "output_type": "execute_result"
    }
   ],
   "source": [
    "res.replace(\"\\\\n\", \" \")[1:-3]"
   ]
  },
  {
   "cell_type": "code",
   "execution_count": null,
   "metadata": {},
   "outputs": [],
   "source": [
    "python evaluation.py --gold '/home/dgreen/sem2/bigdata/finalproject/gold_example.txt' --pred '/home/dgreen/sem2/bigdata/finalproject/pred_example.txt' --etype 'all' --db '/home/dgreen/sem2/bigdata/finalproject/database' --table '/home/dgreen/sem2/bigdata/finalproject/tables.json'"
   ]
  },
  {
   "cell_type": "code",
   "execution_count": 71,
   "metadata": {},
   "outputs": [],
   "source": [
    "import json\n",
    "import csv\n",
    "\n",
    "def convert_json_to_csv(json_file, csv_file):\n",
    "    # Open the JSON file and load the data\n",
    "    with open(json_file, 'r') as json_file:\n",
    "        data = json.load(json_file)\n",
    "\n",
    "    # Open the CSV file and create a CSV writer object\n",
    "    with open(csv_file, 'w', newline='') as csv_file:\n",
    "        writer = csv.writer(csv_file)\n",
    "\n",
    "        # Write the header using keys from the first object in the JSON data\n",
    "        writer.writerow(data[0].keys())\n",
    "\n",
    "        # Write the data\n",
    "        for item in data:\n",
    "            writer.writerow(item.values())\n",
    "\n",
    "# Example usage\n",
    "json_file = 'train_spider.json'\n",
    "csv_file = 'train_spider_8k.csv'\n",
    "convert_json_to_csv(json_file, csv_file)"
   ]
  },
  {
   "cell_type": "code",
   "execution_count": 72,
   "metadata": {},
   "outputs": [],
   "source": [
    "import pandas as pd\n",
    "data_200 = pd.read_csv(\"train_spider_8k.csv\")"
   ]
  },
  {
   "cell_type": "code",
   "execution_count": 73,
   "metadata": {},
   "outputs": [],
   "source": [
    "data_200_need = data_200[['db_id','question']]"
   ]
  },
  {
   "cell_type": "code",
   "execution_count": 74,
   "metadata": {},
   "outputs": [],
   "source": [
    "data_200_need.to_csv(\"train_spider_8k_short.csv\")"
   ]
  },
  {
   "cell_type": "code",
   "execution_count": 76,
   "metadata": {},
   "outputs": [
    {
     "data": {
      "text/plain": [
       "140"
      ]
     },
     "execution_count": 76,
     "metadata": {},
     "output_type": "execute_result"
    }
   ],
   "source": [
    "len(data_200['db_id'].unique())"
   ]
  },
  {
   "cell_type": "code",
   "execution_count": 1,
   "metadata": {},
   "outputs": [],
   "source": [
    "def sort_file_by_number(filename):\n",
    "    with open(filename, 'r') as file:\n",
    "        lines = file.readlines()\n",
    "\n",
    "    # Initialize a list to hold lines with valid numeric prefixes\n",
    "    valid_lines = []\n",
    "\n",
    "    # Process each line to extract the number and handle cases where it fails\n",
    "    for line in lines:\n",
    "        parts = line.split()\n",
    "        if parts:  # Check if line is not empty\n",
    "            try:\n",
    "                # Attempt to convert the first part to an integer\n",
    "                number = int(parts[0])\n",
    "                valid_lines.append((number, line))\n",
    "            except ValueError:\n",
    "                # Skip lines where conversion fails\n",
    "                continue\n",
    "\n",
    "    # Sort the lines based on the extracted number\n",
    "    valid_lines.sort()\n",
    "\n",
    "    # Write the sorted lines back to a file, extracting just the line part of the tuple\n",
    "    with open('sorted_output.txt', 'w') as file:\n",
    "        for _, line in valid_lines:\n",
    "            file.write(line)\n",
    "\n",
    "# Replace 'input_file.txt' with the path to your file\n",
    "sort_file_by_number('finalProj65Merge.txt')"
   ]
  },
  {
   "cell_type": "code",
   "execution_count": 7,
   "metadata": {},
   "outputs": [],
   "source": [
    "def sort_file_by_number(filename):\n",
    "    with open(filename, 'r') as file:\n",
    "        lines = file.readlines()\n",
    "\n",
    "    # Initialize a list to hold lines with valid numeric prefixes\n",
    "    valid_lines = []\n",
    "\n",
    "    # Process each line to extract the number and handle cases where it fails\n",
    "    for line in lines:\n",
    "\n",
    "        parts = line.split()\n",
    "        if parts:  # Check if line is not empty\n",
    "            try:\n",
    "                # Attempt to convert the first part to an integer\n",
    "                number = int(parts[0])\n",
    "                valid_lines.append((number, line))\n",
    "            except ValueError:\n",
    "                # Skip lines where conversion fails\n",
    "                continue\n",
    "\n",
    "    # Sort the lines based on the extracted number\n",
    "    valid_lines.sort()\n",
    "\n",
    "    # Write the sorted lines back to a file, extracting just the line part of the tuple\n",
    "    with open('finalProj65Merge_sorted_output.txt', 'w') as file:\n",
    "        for _, line in valid_lines:\n",
    "            \n",
    "            file.write(line)\n",
    "\n",
    "# Replace 'input_file.txt' with the path to your file\n",
    "sort_file_by_number('finalProj65Merge.txt')"
   ]
  },
  {
   "cell_type": "code",
   "execution_count": 9,
   "metadata": {},
   "outputs": [],
   "source": [
    "proper_lines = []\n",
    "with open(\"finalProj65Merge_sorted_output.txt\", 'r') as file:\n",
    "        lines = file.readlines()\n",
    "        for line in lines:\n",
    "                if \"```sql\" in line:\n",
    "                        sub1 = \"```sql\"\n",
    "                        sub2 = \"```\"\n",
    "                        idx1 = line.index(sub1)\n",
    "                        idx2 = line.index(sub2)\n",
    "                        \n",
    "                        res = ''\n",
    "                        # getting elements in between\n",
    "                        for idx in range(idx1 + len(sub1) + 1, idx2):\n",
    "                                res = res + line[idx]\n",
    "                        line = res\n",
    "                elif \"```\" in line:\n",
    "                        sub1 = \"```\"\n",
    "                        sub2 = \"```\"\n",
    "                        idx1 = line.index(sub1)\n",
    "                        idx2 = line.index(sub2)\n",
    "                        \n",
    "                        res = ''\n",
    "                        # getting elements in between\n",
    "                        for idx in range(idx1 + len(sub1) + 1, idx2):\n",
    "                                res = res + line[idx]\n",
    "                        line = res\n",
    "                elif \"Query:\" in line:\n",
    "                        sub1 = \"Query:\"\n",
    "                        sub2 = \"```\"\n",
    "                        idx1 = line.index(sub1)\n",
    "                        idx2 = line.index(sub2)\n",
    "                        \n",
    "                        res = ''\n",
    "                        # getting elements in between\n",
    "                        for idx in range(idx1 + len(sub1) + 1, idx2):\n",
    "                                res = res + line[idx]\n",
    "                        line = res\n",
    "                proper_lines.append(line)\n",
    "\n",
    "with open('finalProj65Merge_sorted_output_2.txt', 'w') as file:\n",
    "        for line in proper_lines:\n",
    "            file.write(line)"
   ]
  },
  {
   "cell_type": "code",
   "execution_count": 10,
   "metadata": {},
   "outputs": [],
   "source": [
    "with open(\"finalProj65Merge.txt\", 'r') as file:\n",
    "    lines = file.readlines()"
   ]
  },
  {
   "cell_type": "code",
   "execution_count": 13,
   "metadata": {},
   "outputs": [],
   "source": [
    "valid_lines = []\n",
    "lines[1].split()\n",
    "number = int(lines[1].split()[0])\n",
    "valid_lines.append((number, line[1]))\n"
   ]
  },
  {
   "cell_type": "code",
   "execution_count": 14,
   "metadata": {},
   "outputs": [
    {
     "data": {
      "text/plain": [
       "[(10, '9')]"
      ]
     },
     "execution_count": 14,
     "metadata": {},
     "output_type": "execute_result"
    }
   ],
   "source": [
    "valid_lines"
   ]
  },
  {
   "cell_type": "code",
   "execution_count": null,
   "metadata": {},
   "outputs": [],
   "source": [
    "python3 evaluation.py --gold '/home/dgreen/sem2/bigdata/finalproject/extracted_query_dbid_golden.txt' --pred '/home/dgreen/sem2/bigdata/finalproject/Processed_finalProj65Merge_sorted_output.txt' --etype 'all' --db '/home/dgreen/sem2/bigdata/finalproject/database' --table '/home/dgreen/sem2/bigdata/finalproject/tables.json'"
   ]
  }
 ],
 "metadata": {
  "kernelspec": {
   "display_name": "Python 3",
   "language": "python",
   "name": "python3"
  },
  "language_info": {
   "codemirror_mode": {
    "name": "ipython",
    "version": 3
   },
   "file_extension": ".py",
   "mimetype": "text/x-python",
   "name": "python",
   "nbconvert_exporter": "python",
   "pygments_lexer": "ipython3",
   "version": "3.10.12"
  }
 },
 "nbformat": 4,
 "nbformat_minor": 2
}
